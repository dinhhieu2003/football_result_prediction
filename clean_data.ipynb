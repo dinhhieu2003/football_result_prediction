{
 "cells": [
  {
   "cell_type": "code",
   "execution_count": 1,
   "metadata": {
    "collapsed": true
   },
   "outputs": [],
   "source": [
    "import pandas as pd\n",
    "from pygments.lexer import include"
   ]
  },
  {
   "cell_type": "code",
   "execution_count": 3,
   "outputs": [],
   "source": [
    "matches = pd.read_csv(\"matches.csv\", index_col=0)"
   ],
   "metadata": {
    "collapsed": false
   }
  },
  {
   "cell_type": "code",
   "execution_count": 4,
   "outputs": [
    {
     "data": {
      "text/plain": "          date   time            comp         round  day venue result  gf  ga  \\\n0   2022-08-07  16:30  Premier League   Matchweek 1  Sun  Away      W   2   0   \n1   2022-08-13  15:00  Premier League   Matchweek 2  Sat  Home      W   4   0   \n2   2022-08-21  16:30  Premier League   Matchweek 3  Sun  Away      D   3   3   \n3   2022-08-27  15:00  Premier League   Matchweek 4  Sat  Home      W   4   2   \n4   2022-08-31  19:30  Premier League   Matchweek 5  Wed  Home      W   6   0   \n..         ...    ...             ...           ...  ...   ...    ...  ..  ..   \n33  2020-07-07  18:00  Premier League  Matchweek 34  Tue  Away      L   1   2   \n34  2020-07-11  12:30  Premier League  Matchweek 35  Sat  Home      L   0   4   \n35  2020-07-14  20:15  Premier League  Matchweek 36  Tue  Away      L   0   1   \n36  2020-07-18  17:30  Premier League  Matchweek 37  Sat  Home      L   0   2   \n37  2020-07-26  16:00  Premier League  Matchweek 38  Sun  Away      L   0   5   \n\n           opponent  ...  cmp%.1  cmp%.2  cmp%.3   sca  gca touches succ%  \\\n0          West Ham  ...    96.5    94.7    69.4  27.0  4.0   936.0  53.8   \n1       Bournemouth  ...    95.0    93.7    74.1  36.0  6.0   814.0  62.5   \n2     Newcastle Utd  ...    91.0    86.4    69.5  40.0  6.0   756.0  56.5   \n3    Crystal Palace  ...    94.2    90.1    78.3  31.0  7.0   894.0  52.6   \n4   Nott'ham Forest  ...    94.5    92.4    74.2  30.0  9.0   902.0  33.3   \n..              ...  ...     ...     ...     ...   ...  ...     ...   ...   \n33          Watford  ...    85.4    87.3    60.7  18.0  2.0   668.0  59.3   \n34         West Ham  ...    91.9    92.6    58.9  20.0  0.0   675.0  33.3   \n35          Chelsea  ...    86.0    84.8    43.3   2.0  0.0   506.0  85.7   \n36          Burnley  ...    89.0    89.0    45.2  11.0  0.0   482.0  53.8   \n37  Manchester City  ...    84.8    84.5    39.7   8.0  0.0   390.0  66.7   \n\n   tkld%  season             team  \n0   42.3    2023  Manchester City  \n1   25.0    2023  Manchester City  \n2   30.4    2023  Manchester City  \n3   21.1    2023  Manchester City  \n4   47.6    2023  Manchester City  \n..   ...     ...              ...  \n33  40.7    2020     Norwich City  \n34  66.7    2020     Norwich City  \n35  14.3    2020     Norwich City  \n36  46.2    2020     Norwich City  \n37  33.3    2020     Norwich City  \n\n[3040 rows x 39 columns]",
      "text/html": "<div>\n<style scoped>\n    .dataframe tbody tr th:only-of-type {\n        vertical-align: middle;\n    }\n\n    .dataframe tbody tr th {\n        vertical-align: top;\n    }\n\n    .dataframe thead th {\n        text-align: right;\n    }\n</style>\n<table border=\"1\" class=\"dataframe\">\n  <thead>\n    <tr style=\"text-align: right;\">\n      <th></th>\n      <th>date</th>\n      <th>time</th>\n      <th>comp</th>\n      <th>round</th>\n      <th>day</th>\n      <th>venue</th>\n      <th>result</th>\n      <th>gf</th>\n      <th>ga</th>\n      <th>opponent</th>\n      <th>...</th>\n      <th>cmp%.1</th>\n      <th>cmp%.2</th>\n      <th>cmp%.3</th>\n      <th>sca</th>\n      <th>gca</th>\n      <th>touches</th>\n      <th>succ%</th>\n      <th>tkld%</th>\n      <th>season</th>\n      <th>team</th>\n    </tr>\n  </thead>\n  <tbody>\n    <tr>\n      <th>0</th>\n      <td>2022-08-07</td>\n      <td>16:30</td>\n      <td>Premier League</td>\n      <td>Matchweek 1</td>\n      <td>Sun</td>\n      <td>Away</td>\n      <td>W</td>\n      <td>2</td>\n      <td>0</td>\n      <td>West Ham</td>\n      <td>...</td>\n      <td>96.5</td>\n      <td>94.7</td>\n      <td>69.4</td>\n      <td>27.0</td>\n      <td>4.0</td>\n      <td>936.0</td>\n      <td>53.8</td>\n      <td>42.3</td>\n      <td>2023</td>\n      <td>Manchester City</td>\n    </tr>\n    <tr>\n      <th>1</th>\n      <td>2022-08-13</td>\n      <td>15:00</td>\n      <td>Premier League</td>\n      <td>Matchweek 2</td>\n      <td>Sat</td>\n      <td>Home</td>\n      <td>W</td>\n      <td>4</td>\n      <td>0</td>\n      <td>Bournemouth</td>\n      <td>...</td>\n      <td>95.0</td>\n      <td>93.7</td>\n      <td>74.1</td>\n      <td>36.0</td>\n      <td>6.0</td>\n      <td>814.0</td>\n      <td>62.5</td>\n      <td>25.0</td>\n      <td>2023</td>\n      <td>Manchester City</td>\n    </tr>\n    <tr>\n      <th>2</th>\n      <td>2022-08-21</td>\n      <td>16:30</td>\n      <td>Premier League</td>\n      <td>Matchweek 3</td>\n      <td>Sun</td>\n      <td>Away</td>\n      <td>D</td>\n      <td>3</td>\n      <td>3</td>\n      <td>Newcastle Utd</td>\n      <td>...</td>\n      <td>91.0</td>\n      <td>86.4</td>\n      <td>69.5</td>\n      <td>40.0</td>\n      <td>6.0</td>\n      <td>756.0</td>\n      <td>56.5</td>\n      <td>30.4</td>\n      <td>2023</td>\n      <td>Manchester City</td>\n    </tr>\n    <tr>\n      <th>3</th>\n      <td>2022-08-27</td>\n      <td>15:00</td>\n      <td>Premier League</td>\n      <td>Matchweek 4</td>\n      <td>Sat</td>\n      <td>Home</td>\n      <td>W</td>\n      <td>4</td>\n      <td>2</td>\n      <td>Crystal Palace</td>\n      <td>...</td>\n      <td>94.2</td>\n      <td>90.1</td>\n      <td>78.3</td>\n      <td>31.0</td>\n      <td>7.0</td>\n      <td>894.0</td>\n      <td>52.6</td>\n      <td>21.1</td>\n      <td>2023</td>\n      <td>Manchester City</td>\n    </tr>\n    <tr>\n      <th>4</th>\n      <td>2022-08-31</td>\n      <td>19:30</td>\n      <td>Premier League</td>\n      <td>Matchweek 5</td>\n      <td>Wed</td>\n      <td>Home</td>\n      <td>W</td>\n      <td>6</td>\n      <td>0</td>\n      <td>Nott'ham Forest</td>\n      <td>...</td>\n      <td>94.5</td>\n      <td>92.4</td>\n      <td>74.2</td>\n      <td>30.0</td>\n      <td>9.0</td>\n      <td>902.0</td>\n      <td>33.3</td>\n      <td>47.6</td>\n      <td>2023</td>\n      <td>Manchester City</td>\n    </tr>\n    <tr>\n      <th>...</th>\n      <td>...</td>\n      <td>...</td>\n      <td>...</td>\n      <td>...</td>\n      <td>...</td>\n      <td>...</td>\n      <td>...</td>\n      <td>...</td>\n      <td>...</td>\n      <td>...</td>\n      <td>...</td>\n      <td>...</td>\n      <td>...</td>\n      <td>...</td>\n      <td>...</td>\n      <td>...</td>\n      <td>...</td>\n      <td>...</td>\n      <td>...</td>\n      <td>...</td>\n      <td>...</td>\n    </tr>\n    <tr>\n      <th>33</th>\n      <td>2020-07-07</td>\n      <td>18:00</td>\n      <td>Premier League</td>\n      <td>Matchweek 34</td>\n      <td>Tue</td>\n      <td>Away</td>\n      <td>L</td>\n      <td>1</td>\n      <td>2</td>\n      <td>Watford</td>\n      <td>...</td>\n      <td>85.4</td>\n      <td>87.3</td>\n      <td>60.7</td>\n      <td>18.0</td>\n      <td>2.0</td>\n      <td>668.0</td>\n      <td>59.3</td>\n      <td>40.7</td>\n      <td>2020</td>\n      <td>Norwich City</td>\n    </tr>\n    <tr>\n      <th>34</th>\n      <td>2020-07-11</td>\n      <td>12:30</td>\n      <td>Premier League</td>\n      <td>Matchweek 35</td>\n      <td>Sat</td>\n      <td>Home</td>\n      <td>L</td>\n      <td>0</td>\n      <td>4</td>\n      <td>West Ham</td>\n      <td>...</td>\n      <td>91.9</td>\n      <td>92.6</td>\n      <td>58.9</td>\n      <td>20.0</td>\n      <td>0.0</td>\n      <td>675.0</td>\n      <td>33.3</td>\n      <td>66.7</td>\n      <td>2020</td>\n      <td>Norwich City</td>\n    </tr>\n    <tr>\n      <th>35</th>\n      <td>2020-07-14</td>\n      <td>20:15</td>\n      <td>Premier League</td>\n      <td>Matchweek 36</td>\n      <td>Tue</td>\n      <td>Away</td>\n      <td>L</td>\n      <td>0</td>\n      <td>1</td>\n      <td>Chelsea</td>\n      <td>...</td>\n      <td>86.0</td>\n      <td>84.8</td>\n      <td>43.3</td>\n      <td>2.0</td>\n      <td>0.0</td>\n      <td>506.0</td>\n      <td>85.7</td>\n      <td>14.3</td>\n      <td>2020</td>\n      <td>Norwich City</td>\n    </tr>\n    <tr>\n      <th>36</th>\n      <td>2020-07-18</td>\n      <td>17:30</td>\n      <td>Premier League</td>\n      <td>Matchweek 37</td>\n      <td>Sat</td>\n      <td>Home</td>\n      <td>L</td>\n      <td>0</td>\n      <td>2</td>\n      <td>Burnley</td>\n      <td>...</td>\n      <td>89.0</td>\n      <td>89.0</td>\n      <td>45.2</td>\n      <td>11.0</td>\n      <td>0.0</td>\n      <td>482.0</td>\n      <td>53.8</td>\n      <td>46.2</td>\n      <td>2020</td>\n      <td>Norwich City</td>\n    </tr>\n    <tr>\n      <th>37</th>\n      <td>2020-07-26</td>\n      <td>16:00</td>\n      <td>Premier League</td>\n      <td>Matchweek 38</td>\n      <td>Sun</td>\n      <td>Away</td>\n      <td>L</td>\n      <td>0</td>\n      <td>5</td>\n      <td>Manchester City</td>\n      <td>...</td>\n      <td>84.8</td>\n      <td>84.5</td>\n      <td>39.7</td>\n      <td>8.0</td>\n      <td>0.0</td>\n      <td>390.0</td>\n      <td>66.7</td>\n      <td>33.3</td>\n      <td>2020</td>\n      <td>Norwich City</td>\n    </tr>\n  </tbody>\n</table>\n<p>3040 rows × 39 columns</p>\n</div>"
     },
     "execution_count": 4,
     "metadata": {},
     "output_type": "execute_result"
    }
   ],
   "source": [
    "matches"
   ],
   "metadata": {
    "collapsed": false
   }
  },
  {
   "cell_type": "code",
   "execution_count": 46,
   "outputs": [],
   "source": [
    "del matches['comp']"
   ],
   "metadata": {
    "collapsed": false
   }
  },
  {
   "cell_type": "code",
   "execution_count": 47,
   "outputs": [],
   "source": [
    "del matches['notes']\n",
    "del matches['cmp%.1']\n",
    "del matches['cmp%.2']\n",
    "del matches['cmp%.3']\n",
    "del matches['cmp.1']\n",
    "del matches['cmp.2']\n",
    "del matches['cmp.3']"
   ],
   "metadata": {
    "collapsed": false
   }
  },
  {
   "cell_type": "code",
   "execution_count": 48,
   "outputs": [
    {
     "data": {
      "text/plain": "date              0\ntime              0\nround             0\nday               0\nvenue             0\nresult            0\ngf                0\nga                0\nopponent          0\nxg                0\nxga               0\nposs              0\nattendance      882\ncaptain           0\nformation         0\nreferee           0\nmatch report      0\nsh                0\nsot               0\nsot%              1\ng/sh              1\ng/sot           103\ncmp               0\ncmp%              0\nsca               0\ngca               0\ntouches           0\nsucc%             0\ntkld%             0\nseason            0\nteam              0\ndtype: int64"
     },
     "execution_count": 48,
     "metadata": {},
     "output_type": "execute_result"
    }
   ],
   "source": [
    "nan_count = matches.isna().sum()\n",
    "nan_count"
   ],
   "metadata": {
    "collapsed": false
   }
  },
  {
   "cell_type": "code",
   "execution_count": 49,
   "outputs": [
    {
     "data": {
      "text/plain": "{'Arsenal': 47886,\n 'Aston Villa': 39690,\n 'Bournemouth': 25469,\n 'Brentford': 28775,\n 'Brighton and Hove Albion': 35150,\n 'Burnley': 28464,\n 'Chelsea': 38194,\n 'Crystal Palace': 31978,\n 'Everton': 38323,\n 'Fulham': 30259,\n 'Leeds United': 37159,\n 'Leicester City': 35692,\n 'Liverpool': 43652,\n 'Manchester City': 45862,\n 'Manchester United': 54610,\n 'Newcastle United': 44673,\n 'Norwich City': 33492,\n 'Nottingham Forest': 35040,\n 'Sheffield United': 32047,\n 'Southampton': 33974,\n 'Tottenham Hotspur': 47324,\n 'Watford': 30232,\n 'West Bromwich Albion': 5124,\n 'West Ham United': 47639,\n 'Wolverhampton Wanderers': 34756}"
     },
     "execution_count": 49,
     "metadata": {},
     "output_type": "execute_result"
    }
   ],
   "source": [
    "mean_attendance_by_team = matches.groupby('team')['attendance'].mean().to_dict()\n",
    "rounded_attendance_by_team = {team: round(attendance) for team, attendance in mean_attendance_by_team.items()}\n",
    "rounded_attendance_by_team"
   ],
   "metadata": {
    "collapsed": false
   }
  },
  {
   "cell_type": "code",
   "execution_count": 50,
   "outputs": [],
   "source": [
    "matches['attendance'] = matches.apply(lambda row: rounded_attendance_by_team.get(row['team'], row['attendance']) if pd.isnull(row['attendance']) else row['attendance'], axis=1)"
   ],
   "metadata": {
    "collapsed": false
   }
  },
  {
   "cell_type": "code",
   "execution_count": 51,
   "outputs": [
    {
     "data": {
      "text/plain": "{'Arsenal': 0.13,\n 'Aston Villa': 0.11,\n 'Bournemouth': 0.1,\n 'Brentford': 0.11,\n 'Brighton and Hove Albion': 0.09,\n 'Burnley': 0.09,\n 'Chelsea': 0.1,\n 'Crystal Palace': 0.11,\n 'Everton': 0.09,\n 'Fulham': 0.08,\n 'Leeds United': 0.1,\n 'Leicester City': 0.13,\n 'Liverpool': 0.13,\n 'Manchester City': 0.14,\n 'Manchester United': 0.11,\n 'Newcastle United': 0.1,\n 'Norwich City': 0.05,\n 'Nottingham Forest': 0.1,\n 'Sheffield United': 0.08,\n 'Southampton': 0.1,\n 'Tottenham Hotspur': 0.13,\n 'Watford': 0.07,\n 'West Bromwich Albion': 0.09,\n 'West Ham United': 0.11,\n 'Wolverhampton Wanderers': 0.08}"
     },
     "execution_count": 51,
     "metadata": {},
     "output_type": "execute_result"
    }
   ],
   "source": [
    "mean_gsh_by_team = matches.groupby('team')['g/sh'].mean().to_dict()\n",
    "rounded_mean_gsh_by_team = {team: round(gsh, 2) for team, gsh in mean_gsh_by_team.items()}\n",
    "\n",
    "rounded_mean_gsh_by_team"
   ],
   "metadata": {
    "collapsed": false
   }
  },
  {
   "cell_type": "code",
   "execution_count": 52,
   "outputs": [],
   "source": [
    "matches['g/sh'] = matches.apply(lambda row: rounded_attendance_by_team.get(row['team'], row['g/sh']) if pd.isnull(row['g/sh']) else row['g/sh'], axis=1)"
   ],
   "metadata": {
    "collapsed": false
   }
  },
  {
   "cell_type": "code",
   "execution_count": 53,
   "outputs": [
    {
     "data": {
      "text/plain": "{'Arsenal': 0.34,\n 'Aston Villa': 0.3,\n 'Bournemouth': 0.28,\n 'Brentford': 0.32,\n 'Brighton and Hove Albion': 0.26,\n 'Burnley': 0.26,\n 'Chelsea': 0.28,\n 'Crystal Palace': 0.3,\n 'Everton': 0.26,\n 'Fulham': 0.27,\n 'Leeds United': 0.28,\n 'Leicester City': 0.35,\n 'Liverpool': 0.34,\n 'Manchester City': 0.4,\n 'Manchester United': 0.28,\n 'Newcastle United': 0.3,\n 'Norwich City': 0.17,\n 'Nottingham Forest': 0.34,\n 'Sheffield United': 0.24,\n 'Southampton': 0.27,\n 'Tottenham Hotspur': 0.33,\n 'Watford': 0.23,\n 'West Bromwich Albion': 0.23,\n 'West Ham United': 0.32,\n 'Wolverhampton Wanderers': 0.25}"
     },
     "execution_count": 53,
     "metadata": {},
     "output_type": "execute_result"
    }
   ],
   "source": [
    "mean_gsot_by_team = matches.groupby('team')['g/sot'].mean().to_dict()\n",
    "rounded_mean_gsot_by_team = {team: round(gsot, 2) for team, gsot in mean_gsot_by_team.items()}\n",
    "\n",
    "rounded_mean_gsot_by_team"
   ],
   "metadata": {
    "collapsed": false
   }
  },
  {
   "cell_type": "code",
   "execution_count": 54,
   "outputs": [],
   "source": [
    "matches['g/sot'] = matches.apply(lambda row: rounded_mean_gsot_by_team.get(row['team'], row['g/sot']) if pd.isnull(row['g/sot']) else row['g/sot'], axis=1)"
   ],
   "metadata": {
    "collapsed": false
   }
  },
  {
   "cell_type": "code",
   "execution_count": 56,
   "outputs": [
    {
     "data": {
      "text/plain": "{'Arsenal': 34.32,\n 'Aston Villa': 34.01,\n 'Bournemouth': 33.64,\n 'Brentford': 34.41,\n 'Brighton and Hove Albion': 32.29,\n 'Burnley': 30.9,\n 'Chelsea': 33.88,\n 'Crystal Palace': 33.8,\n 'Everton': 33.3,\n 'Fulham': 29.77,\n 'Leeds United': 34.08,\n 'Leicester City': 37.26,\n 'Liverpool': 35.65,\n 'Manchester City': 35.51,\n 'Manchester United': 37.53,\n 'Newcastle United': 32.8,\n 'Norwich City': 29.78,\n 'Nottingham Forest': 30.98,\n 'Sheffield United': 30.43,\n 'Southampton': 35.82,\n 'Tottenham Hotspur': 37.66,\n 'Watford': 29.39,\n 'West Bromwich Albion': 34.16,\n 'West Ham United': 34.61,\n 'Wolverhampton Wanderers': 32.18}"
     },
     "execution_count": 56,
     "metadata": {},
     "output_type": "execute_result"
    }
   ],
   "source": [
    "mean_gsot_percent_by_team = matches.groupby('team')['sot%'].mean().to_dict()\n",
    "rounded_mean_sot_percent_by_team = {team: round(sot_per, 2) for team, sot_per in mean_gsot_by_team.items()}\n",
    "\n",
    "rounded_mean_sot_percent_by_team"
   ],
   "metadata": {
    "collapsed": false
   }
  },
  {
   "cell_type": "code",
   "execution_count": 57,
   "outputs": [],
   "source": [
    "matches['sot%'] = matches.apply(lambda row: rounded_mean_gsot_by_team.get(row['team'], row['sot%']) if pd.isnull(row['sot%']) else row['sot%'], axis=1)"
   ],
   "metadata": {
    "collapsed": false
   }
  },
  {
   "cell_type": "code",
   "execution_count": 58,
   "outputs": [],
   "source": [
    "matches[\"date\"] = pd.to_datetime(matches[\"date\"])\n",
    "matches[\"venue_code\"] = matches[\"venue\"].astype(\"category\").cat.codes\n",
    "matches[\"opp_code\"] = matches[\"opponent\"].astype(\"category\").cat.codes\n",
    "matches[\"hour\"] = matches[\"time\"].str.replace(\":.+\", \"\", regex=True).astype(\"int\")\n",
    "matches[\"target\"] = matches[\"result\"].astype(\"category\").cat.codes\n",
    "matches[\"day_code\"] = matches[\"date\"].dt.dayofweek\n",
    "matches[\"team_code\"] = matches[\"team\"].astype(\"category\").cat.codes\n",
    "matches[\"round_code\"] = matches[\"round\"].astype(\"category\").cat.codes"
   ],
   "metadata": {
    "collapsed": false
   }
  },
  {
   "cell_type": "code",
   "execution_count": 59,
   "outputs": [
    {
     "data": {
      "text/plain": "dtype('int8')"
     },
     "execution_count": 59,
     "metadata": {},
     "output_type": "execute_result"
    }
   ],
   "source": [
    "matches[\"team_code\"].dtype"
   ],
   "metadata": {
    "collapsed": false
   }
  },
  {
   "cell_type": "code",
   "execution_count": 60,
   "outputs": [],
   "source": [
    "matches.to_csv(\"matches_clean.csv\")"
   ],
   "metadata": {
    "collapsed": false
   }
  },
  {
   "cell_type": "code",
   "execution_count": null,
   "outputs": [],
   "source": [],
   "metadata": {
    "collapsed": false
   }
  }
 ],
 "metadata": {
  "kernelspec": {
   "display_name": "Python 3",
   "language": "python",
   "name": "python3"
  },
  "language_info": {
   "codemirror_mode": {
    "name": "ipython",
    "version": 2
   },
   "file_extension": ".py",
   "mimetype": "text/x-python",
   "name": "python",
   "nbconvert_exporter": "python",
   "pygments_lexer": "ipython2",
   "version": "2.7.6"
  }
 },
 "nbformat": 4,
 "nbformat_minor": 0
}
